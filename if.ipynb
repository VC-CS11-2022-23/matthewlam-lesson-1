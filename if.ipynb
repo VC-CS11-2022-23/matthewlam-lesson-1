{
 "cells": [
  {
   "cell_type": "markdown",
   "metadata": {},
   "source": [
    " # Hello World!\n",
    "\n",
    " Today we will be starting from scratch.\n",
    "\n",
    " You will learn\n",
    " - if/elif/else + conditions\n",
    " - print\n",
    " - math\n",
    " - input"
   ]
  },
  {
   "cell_type": "code",
   "execution_count": null,
   "metadata": {},
   "outputs": [],
   "source": [
    "# print\n",
    "print(\"Hello, world!\")"
   ]
  },
  {
   "cell_type": "code",
   "execution_count": null,
   "metadata": {},
   "outputs": [],
   "source": [
    "# command line input\n",
    "name = input(\"What is your name? \")\n",
    "print(f\"hello, {name}\")"
   ]
  },
  {
   "cell_type": "code",
   "execution_count": null,
   "metadata": {},
   "outputs": [],
   "source": [
    "# string addition\n",
    "num1 = input(\"Number 1: \")\n",
    "num2 = input(\"Number 2: \")\n",
    "print(f\"{num1} + {num2} = {num1 + num2}\")"
   ]
  },
  {
   "cell_type": "code",
   "execution_count": null,
   "metadata": {},
   "outputs": [],
   "source": [
    "# number parsing a string input\n",
    "num1 = int(input(\"Number 1: \"))\n",
    "num2 = int(input(\"Number 2: \"))\n",
    "\n",
    "print(f\"{num1} + {num2} = {num1 + num2}\")"
   ]
  },
  {
   "cell_type": "code",
   "execution_count": null,
   "metadata": {},
   "outputs": [],
   "source": [
    "print(f\"{num1} - {num2} = {num1 - num2}\")\n",
    "print(f\"{num1} * {num2} = {num1 * num2}\")\n",
    "print(f\"{num1} / {num2} = {num1 / num2}\")\n",
    "print(f\"{num1} ** {num2} = {num1 ** num2}\")"
   ]
  },
  {
   "cell_type": "code",
   "execution_count": null,
   "metadata": {},
   "outputs": [],
   "source": [
    "# if and conditions\n",
    "if num1 > num2:\n",
    "    print(\"Number 1 is greater than number 2\")\n",
    "elif num1 == num2:\n",
    "    print(\"Number 1 is equal to number 2\")\n",
    "else:\n",
    "    print(\"Number 1 is less than number 2\")"
   ]
  }
 ],
 "metadata": {
  "kernelspec": {
   "display_name": "Python 3.10.4 64-bit",
   "language": "python",
   "name": "python3"
  },
  "language_info": {
   "codemirror_mode": {
    "name": "ipython",
    "version": 3
   },
   "file_extension": ".py",
   "mimetype": "text/x-python",
   "name": "python",
   "nbconvert_exporter": "python",
   "pygments_lexer": "ipython3",
   "version": "3.10.4"
  },
  "orig_nbformat": 4,
  "vscode": {
   "interpreter": {
    "hash": "3ad933181bd8a04b432d3370b9dc3b0662ad032c4dfaa4e4f1596c548f763858"
   }
  }
 },
 "nbformat": 4,
 "nbformat_minor": 2
}
